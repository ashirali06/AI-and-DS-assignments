{
 "cells": [
  {
   "cell_type": "markdown",
   "id": "33e1f772-aea1-476e-a05f-77d96c551f70",
   "metadata": {},
   "source": [
    "# Ashas Bank"
   ]
  },
  {
   "cell_type": "code",
   "execution_count": 1,
   "id": "56172e78-530a-48af-8dfa-0efac19b1d59",
   "metadata": {},
   "outputs": [],
   "source": [
    "# Importing the datetime module to record transaction time and date\n",
    "from datetime import *\n",
    "\n",
    "# Creating an accounts list\n",
    "accounts = [\n",
    "    {\"name\": \"huzaifa\", \"balance\": 0, \"transactions\": []},\n",
    "    {\"name\": \"nawaz\", \"balance\": 0, \"transactions\": []}\n",
    "]"
   ]
  },
  {
   "cell_type": "markdown",
   "id": "a8602daf-adc4-4a8e-86f9-ba7a8bfb8a28",
   "metadata": {},
   "source": [
    "## Deposit"
   ]
  },
  {
   "cell_type": "code",
   "execution_count": 2,
   "id": "8b7a15cf-3dcb-458c-9bc2-72eb758a122c",
   "metadata": {},
   "outputs": [],
   "source": [
    "def deposit(i):\n",
    "    depositedAmount = float(input(\"How much money do you want to deposit\"))\n",
    "\n",
    "    # If user already has an account\n",
    "    if type(i) == int:   \n",
    "         # If user wants to deposit less than 500 an error comes\n",
    "             if depositedAmount < 500:\n",
    "                 print(\"You have to at least deposit 500 rupees\")\n",
    "                 deposit(i)\n",
    "         \n",
    "         # If user deposits a valid amount\n",
    "             if depositedAmount > 500:\n",
    "                 now = datetime.now()\n",
    "                 accounts[i][\"balance\"] += depositedAmount\n",
    "                 accounts[i][\"transactions\"].append({\"type\": \"deposit\", \"amount\": depositedAmount, \"dateTime\": now.strftime(\"%H:%M %B %d, %Y\"), \"balance\": accounts[i][\"balance\"]})\n",
    "                 print(f\"Your Rs.{depositedAmount} have been deposited and Thank you for visiting \")\n",
    "\n",
    "# If account is not already present\n",
    "    else:\n",
    "    # If user wants to deposit less than 500 an error comes\n",
    "        if depositedAmount < 500:\n",
    "            print(\"You have to at least deposit 500 rupees\")\n",
    "            deposit(i)\n",
    "\n",
    "    # If user deposits valid amount it appends another account with the deposited balance\n",
    "        if depositedAmount > 500:\n",
    "            now = datetime.now()\n",
    "            accounts.append({\"name\": i, \"balance\": depositedAmount, \"transactions\": [{\"type\": \"deposit\", \"amount\": depositedAmount, \"dateTime\": now.strftime(\"%H:%M %B %d, %Y\"), \"balance\": accounts[i][\"balance\"]}]})\n",
    "            print(f\"Your Rs.{depositedAmount} have been deposited and Thank you for visiting \")"
   ]
  },
  {
   "cell_type": "markdown",
   "id": "6c1b77f0-c283-4a94-b72e-84b0faef151b",
   "metadata": {},
   "source": [
    "## Withdraw"
   ]
  },
  {
   "cell_type": "code",
   "execution_count": 3,
   "id": "774751fb-5e47-4298-bef5-bbf92d85dd2e",
   "metadata": {},
   "outputs": [],
   "source": [
    "def withdraw(i):\n",
    "    \n",
    "# If you user has no balance an error comes\n",
    "    if accounts[i][\"balance\"] == 0:\n",
    "        print(\"Sorry you do not have any balance\")\n",
    "\n",
    "    else:\n",
    "        withdrawedAmount = float(input(\"How much money do you want to withdraw\"))\n",
    "        \n",
    "    # If user wants to withdraw less than 500 an error comes \n",
    "        if withdrawedAmount < 500:\n",
    "            print(\"You have to at least withsraw 500 rupees\")\n",
    "            withdraw(i)\n",
    "    \n",
    "    # If user wants to withdraw more than current balance an error comes \n",
    "        if withdrawedAmount >= accounts[i][\"balance\"]:\n",
    "            print(\"You do not have enough balance\")\n",
    "            withdraw(i)\n",
    "    \n",
    "    # If user is withdrawing a valid amount\n",
    "        if withdrawedAmount <= accounts[i][\"balance\"] and withdrawedAmount > 500:\n",
    "            now = datetime.now()\n",
    "            accounts[i][\"balance\"] = accounts[i][\"balance\"] - withdrawedAmount\n",
    "            accounts[i][\"transactions\"].append({\"type\": \"withdraw\", \"amount\": withdrawedAmount, \"dateTime\": now.strftime(\"%H:%M %B %d, %Y\"), \"balance\": accounts[i][\"balance\"]})\n",
    "            print(f\"Here are your Rs.{withdrawedAmount} and Thank you for visiting\")"
   ]
  },
  {
   "cell_type": "markdown",
   "id": "55fba09f-5ec6-42a0-9e84-dc27c76cd999",
   "metadata": {},
   "source": [
    "## Check Transaction History"
   ]
  },
  {
   "cell_type": "code",
   "execution_count": 4,
   "id": "d94ae5de-b808-4bb4-b8e5-2f2791883206",
   "metadata": {},
   "outputs": [],
   "source": [
    "def checkTransactionHistory(i):\n",
    "\n",
    "# If user asks for transactions and there are no transactions\n",
    "    if len(accounts[i][\"transactions\"]) == 0:\n",
    "        print(\"There are no transactions yet\")\n",
    "\n",
    "    else:\n",
    "        statement = \"\"\n",
    "        for j in range(len(accounts[i][\"transactions\"])):\n",
    "            statement += f\"You {accounts[i]['transactions'][j][\"type\"]}ed Rs.{accounts[i]['transactions'][j][\"amount\"]} on {accounts[i]['transactions'][j][\"dateTime\"]} and your balance was Rs.{accounts[i]['transactions'][j][\"balance\"]} \\n\"\n",
    "        print(statement)\n",
    "        "
   ]
  },
  {
   "cell_type": "markdown",
   "id": "5cd9e21b-39ce-4839-bbf3-a320cfbbf257",
   "metadata": {},
   "source": [
    "## Check Balance"
   ]
  },
  {
   "cell_type": "code",
   "execution_count": 5,
   "id": "e0770554-fb9e-4583-83dc-5664a9b0f487",
   "metadata": {},
   "outputs": [],
   "source": [
    "def checkBalance(i):\n",
    "   print(f\"Your current balance is Rs.{accounts[i][\"balance\"]}\")"
   ]
  },
  {
   "cell_type": "markdown",
   "id": "f6ccd189-7935-45c2-a4a4-9b02a0677c99",
   "metadata": {},
   "source": [
    "## Main Function"
   ]
  },
  {
   "cell_type": "code",
   "execution_count": 6,
   "id": "218d8ece-f382-493f-af90-1a904357b420",
   "metadata": {},
   "outputs": [],
   "source": [
    "def main(i):\n",
    "    res = input(\"Do you want to deposit, withdraw, check transaction history or check balance\")\n",
    "        \n",
    "# If user wants to deposit\n",
    "    if res == \"deposit\":\n",
    "        deposit(i)\n",
    "        \n",
    "# If user wants to withdraw\n",
    "    elif res == \"withdraw\":\n",
    "        withdraw(i)\n",
    "\n",
    "# If user wants to check balance\n",
    "    elif res == \"check balance\":\n",
    "        checkBalance(i)\n",
    "\n",
    "# If user wants to check transaction history\n",
    "    elif res == \"check transaction history\":\n",
    "        checkTransactionHistory(i)\n",
    "\n",
    "# If user doesn't choose any of the given options\n",
    "    else:\n",
    "        print(\"Write deposit, withdraw, check transaction history or check balance\")\n",
    "        main(i)\n",
    "            "
   ]
  },
  {
   "cell_type": "code",
   "execution_count": 8,
   "id": "f0cf15f3-9413-4cea-82e0-386a744804a0",
   "metadata": {},
   "outputs": [
    {
     "name": "stdin",
     "output_type": "stream",
     "text": [
      "What is your full name? ashir\n",
      "Do you want do deposit money? Answer yes or no no\n"
     ]
    },
    {
     "name": "stdout",
     "output_type": "stream",
     "text": [
      "Your account has been and Thank you for visiting \n"
     ]
    }
   ],
   "source": [
    "name = input(\"What is your full name?\")\n",
    "\n",
    "# Loop that checks if the given name is present in accounts\n",
    "for i in range(len(accounts)):\n",
    "\n",
    "# If name is present in accounts\n",
    "    if accounts[i][\"name\"] == name:\n",
    "        main(i)\n",
    "        break\n",
    "        \n",
    "# If name is not present in accounts    \n",
    "    elif len(accounts) - 1 == i:\n",
    "        # As the account is new there is no balance or transactions so user can only deposit\n",
    "        res = input(\"Do you want do deposit money? Answer yes or no\")\n",
    "        \n",
    "        if res == \"yes\":\n",
    "            deposit(name)\n",
    "            \n",
    "        else:\n",
    "            accounts.append({\"name\": name, \"balance\": 0, \"transactions\": []})\n",
    "            print(f\"Your account has been and Thank you for visiting \")"
   ]
  }
 ],
 "metadata": {
  "kernelspec": {
   "display_name": "Python 3 (ipykernel)",
   "language": "python",
   "name": "python3"
  },
  "language_info": {
   "codemirror_mode": {
    "name": "ipython",
    "version": 3
   },
   "file_extension": ".py",
   "mimetype": "text/x-python",
   "name": "python",
   "nbconvert_exporter": "python",
   "pygments_lexer": "ipython3",
   "version": "3.12.7"
  }
 },
 "nbformat": 4,
 "nbformat_minor": 5
}
