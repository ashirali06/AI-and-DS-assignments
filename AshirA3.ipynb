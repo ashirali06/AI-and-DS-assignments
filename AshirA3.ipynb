{
 "cells": [
  {
   "cell_type": "markdown",
   "id": "1aeaf027-7d17-4d1c-9670-0a6278f97907",
   "metadata": {},
   "source": [
    "# Assignment 3 IF / ELSE\n",
    "# A-\tDiscounts and Pricing"
   ]
  },
  {
   "cell_type": "markdown",
   "id": "da07f204-05b0-410e-a081-8478c9551a48",
   "metadata": {},
   "source": [
    "\n",
    "1.\tCheck Discount Eligibility\n",
    "Write a program to check if a customer is eligible for a discount. If the total purchase is more than $100, apply a 10% discount and display the final price. Otherwise, display the total price as it is.\n"
   ]
  },
  {
   "cell_type": "code",
   "execution_count": 2,
   "id": "4462ba8a-4d7b-47c7-90ca-877c516096ce",
   "metadata": {},
   "outputs": [
    {
     "name": "stdin",
     "output_type": "stream",
     "text": [
      "Enter total purchase amount: $ 50000\n"
     ]
    },
    {
     "name": "stdout",
     "output_type": "stream",
     "text": [
      "Discount applied: $5000.00\n",
      "Final price: $45000.00\n"
     ]
    },
    {
     "data": {
      "text/plain": [
       "45000.0"
      ]
     },
     "execution_count": 2,
     "metadata": {},
     "output_type": "execute_result"
    }
   ],
   "source": [
    "def calculate_final_price(total_purchase):\n",
    "    \"\"\"Calculate final price after discount eligibility check.\"\"\"\n",
    "    discount_threshold = 100  # Discount applies if purchase is over $100\n",
    "    discount_rate = 0.10  # 10% discount\n",
    "    \n",
    "    if total_purchase > discount_threshold:\n",
    "        discount = total_purchase * discount_rate\n",
    "        final_price = total_purchase - discount\n",
    "        print(f\"Discount applied: ${discount:.2f}\")\n",
    "    else:\n",
    "        final_price = total_purchase\n",
    "        print(\"No discount applied.\")\n",
    "    \n",
    "    print(f\"Final price: ${final_price:.2f}\")\n",
    "    return final_price\n",
    "\n",
    "# Example usage\n",
    "total_purchase = float(input(\"Enter total purchase amount: $\"))\n",
    "calculate_final_price(total_purchase)"
   ]
  },
  {
   "cell_type": "markdown",
   "id": "eb97c418-e64a-40cb-b612-ac96b69631a5",
   "metadata": {},
   "source": [
    "2.\tCalculate Bulk Discount\n",
    "If a customer buys more than 5 items, apply a 15% discount on the total price. Otherwise, no discount is applied. Display the total price.\n"
   ]
  },
  {
   "cell_type": "code",
   "execution_count": 3,
   "id": "4b6fe2b5-83f0-47c2-8e3f-b62622ba7c8b",
   "metadata": {},
   "outputs": [
    {
     "name": "stdin",
     "output_type": "stream",
     "text": [
      "Enter total purchase amount: $ 70000\n",
      "Enter number of items purchased:  6\n"
     ]
    },
    {
     "name": "stdout",
     "output_type": "stream",
     "text": [
      "Bulk discount applied: $10500.00\n",
      "Final price: $59500.00\n"
     ]
    },
    {
     "data": {
      "text/plain": [
       "59500.0"
      ]
     },
     "execution_count": 3,
     "metadata": {},
     "output_type": "execute_result"
    }
   ],
   "source": [
    "def calculate_final_price(total_purchase, num_items):\n",
    "    \"\"\"Calculate final price after discount eligibility check.\"\"\"\n",
    "    discount_threshold = 100  # Discount applies if purchase is over $100\n",
    "    discount_rate = 0.10  # 10% discount\n",
    "    bulk_discount_threshold = 5  # Bulk discount applies if more than 5 items\n",
    "    bulk_discount_rate = 0.15  # 15% discount\n",
    "    \n",
    "    if num_items > bulk_discount_threshold:\n",
    "        discount = total_purchase * bulk_discount_rate\n",
    "        print(f\"Bulk discount applied: ${discount:.2f}\")\n",
    "    elif total_purchase > discount_threshold:\n",
    "        discount = total_purchase * discount_rate\n",
    "        print(f\"Regular discount applied: ${discount:.2f}\")\n",
    "    else:\n",
    "        discount = 0\n",
    "        print(\"No discount applied.\")\n",
    "    \n",
    "    final_price = total_purchase - discount\n",
    "    print(f\"Final price: ${final_price:.2f}\")\n",
    "    return final_price\n",
    "\n",
    "# Example usage\n",
    "total_purchase = float(input(\"Enter total purchase amount: $\"))\n",
    "num_items = int(input(\"Enter number of items purchased: \"))\n",
    "calculate_final_price(total_purchase, num_items)"
   ]
  },
  {
   "cell_type": "markdown",
   "id": "c387f6f8-e68a-4415-9634-32fbb9d3045d",
   "metadata": {},
   "source": [
    "3.\tMembership Discount\n",
    "Check if the customer is a member (is_member = True). Members get a 20% discount; non-members get a 5% discount. Calculate and print the discounted price.\n"
   ]
  },
  {
   "cell_type": "code",
   "execution_count": 4,
   "id": "c0671b52-47ea-4510-849b-9766c8a216dd",
   "metadata": {},
   "outputs": [
    {
     "name": "stdin",
     "output_type": "stream",
     "text": [
      "Enter total purchase amount: $ 700000\n",
      "Enter number of items purchased:  6\n",
      "Are you a member? (yes/no):  yes\n"
     ]
    },
    {
     "name": "stdout",
     "output_type": "stream",
     "text": [
      "Membership discount applied: $140000.00\n",
      "Final price: $560000.00\n"
     ]
    },
    {
     "data": {
      "text/plain": [
       "560000.0"
      ]
     },
     "execution_count": 4,
     "metadata": {},
     "output_type": "execute_result"
    }
   ],
   "source": [
    "def calculate_final_price(total_purchase, num_items, is_member):\n",
    "    \"\"\"Calculate final price after discount eligibility check.\"\"\"\n",
    "    discount_threshold = 100  # Discount applies if purchase is over $100\n",
    "    discount_rate = 0.10  # 10% discount\n",
    "    bulk_discount_threshold = 5  # Bulk discount applies if more than 5 items\n",
    "    bulk_discount_rate = 0.15  # 15% discount\n",
    "    member_discount = 0.20  # 20% discount for members\n",
    "    non_member_discount = 0.05  # 5% discount for non-members\n",
    "    \n",
    "    if is_member:\n",
    "        discount = total_purchase * member_discount\n",
    "        print(f\"Membership discount applied: ${discount:.2f}\")\n",
    "    else:\n",
    "        discount = total_purchase * non_member_discount\n",
    "        print(f\"Non-member discount applied: ${discount:.2f}\")\n",
    "    \n",
    "    final_price = total_purchase - discount\n",
    "    print(f\"Final price: ${final_price:.2f}\")\n",
    "    return final_price\n",
    "\n",
    "# Example usage\n",
    "total_purchase = float(input(\"Enter total purchase amount: $\"))\n",
    "num_items = int(input(\"Enter number of items purchased: \"))\n",
    "is_member = input(\"Are you a member? (yes/no): \").strip().lower() == \"yes\"\n",
    "calculate_final_price(total_purchase, num_items, is_member)\n"
   ]
  },
  {
   "cell_type": "markdown",
   "id": "e831f9ce-35f5-4133-8225-921055e07480",
   "metadata": {},
   "source": [
    "4.\tSeasonal Sale\n",
    "If today is a holiday (is_holiday = True), apply a 25% discount; otherwise, apply a 10% discount. Calculate the price after discount.\n",
    "\n"
   ]
  },
  {
   "cell_type": "code",
   "execution_count": 5,
   "id": "2586eb51-3b03-4681-85eb-a9874e309698",
   "metadata": {},
   "outputs": [
    {
     "name": "stdin",
     "output_type": "stream",
     "text": [
      "Enter total purchase amount: $ 100000\n",
      "Enter number of items purchased:  5\n",
      "Are you a member? (yes/no):  no\n",
      "Is today a holiday? (yes/no):  yes\n"
     ]
    },
    {
     "name": "stdout",
     "output_type": "stream",
     "text": [
      "Non-member discount applied: $5000.00\n",
      "Seasonal discount applied: $25000.00\n",
      "Final price: $70000.00\n"
     ]
    },
    {
     "data": {
      "text/plain": [
       "70000.0"
      ]
     },
     "execution_count": 5,
     "metadata": {},
     "output_type": "execute_result"
    }
   ],
   "source": [
    "def calculate_final_price(total_purchase, num_items, is_member, is_holiday):\n",
    "    \"\"\"Calculate final price after discount eligibility check.\"\"\"\n",
    "    discount_threshold = 100  # Discount applies if purchase is over $100\n",
    "    discount_rate = 0.10  # 10% discount\n",
    "    bulk_discount_threshold = 5  # Bulk discount applies if more than 5 items\n",
    "    bulk_discount_rate = 0.15  # 15% discount\n",
    "    member_discount = 0.20  # 20% discount for members\n",
    "    non_member_discount = 0.05  # 5% discount for non-members\n",
    "    holiday_discount = 0.25 if is_holiday else 0.10  # 25% discount on holidays, otherwise 10%\n",
    "    \n",
    "    if is_member:\n",
    "        discount = total_purchase * member_discount\n",
    "        print(f\"Membership discount applied: ${discount:.2f}\")\n",
    "    else:\n",
    "        discount = total_purchase * non_member_discount\n",
    "        print(f\"Non-member discount applied: ${discount:.2f}\")\n",
    "    \n",
    "    holiday_discount_amount = total_purchase * holiday_discount\n",
    "    print(f\"Seasonal discount applied: ${holiday_discount_amount:.2f}\")\n",
    "    discount += holiday_discount_amount\n",
    "    \n",
    "    final_price = total_purchase - discount\n",
    "    print(f\"Final price: ${final_price:.2f}\")\n",
    "    return final_price\n",
    "\n",
    "# Example usage\n",
    "total_purchase = float(input(\"Enter total purchase amount: $\"))\n",
    "num_items = int(input(\"Enter number of items purchased: \"))\n",
    "is_member = input(\"Are you a member? (yes/no): \").strip().lower() == \"yes\"\n",
    "is_holiday = input(\"Is today a holiday? (yes/no): \").strip().lower() == \"yes\"\n",
    "calculate_final_price(total_purchase, num_items, is_member, is_holiday)\n"
   ]
  },
  {
   "cell_type": "markdown",
   "id": "80c46e13-2788-4482-bead-88b9ed5e41c3",
   "metadata": {},
   "source": [
    "5.\tBuy-One-Get-One-Free\n",
    "If a customer buys an even number of items, they get half of them for free. Otherwise, they pay for all. Calculate the number of items the customer has to pay for.\n"
   ]
  },
  {
   "cell_type": "code",
   "execution_count": 7,
   "id": "65f8e4bf-49d9-416d-9637-7c642763feca",
   "metadata": {},
   "outputs": [
    {
     "name": "stdin",
     "output_type": "stream",
     "text": [
      "Enter total purchase amount: $ 600\n",
      "Enter number of items purchased:  2\n",
      "Are you a member? (yes/no):  yes\n",
      "Is today a holiday? (yes/no):  yes\n"
     ]
    },
    {
     "name": "stdout",
     "output_type": "stream",
     "text": [
      "Membership discount applied: $120.00\n",
      "Seasonal discount applied: $150.00\n",
      "Final price: $330.00\n",
      "Buy-One-Get-One-Free applied: Pay for 1 items out of 2.\n"
     ]
    },
    {
     "data": {
      "text/plain": [
       "(330.0, 1)"
      ]
     },
     "execution_count": 7,
     "metadata": {},
     "output_type": "execute_result"
    }
   ],
   "source": [
    "def calculate_final_price(total_purchase, num_items, is_member, is_holiday):\n",
    "    \"\"\"Calculate final price after discount eligibility check.\"\"\"\n",
    "    discount_threshold = 100  # Discount applies if purchase is over $100\n",
    "    discount_rate = 0.10  # 10% discount\n",
    "    bulk_discount_threshold = 5  # Bulk discount applies if more than 5 items\n",
    "    bulk_discount_rate = 0.15  # 15% discount\n",
    "    member_discount = 0.20  # 20% discount for members\n",
    "    non_member_discount = 0.05  # 5% discount for non-members\n",
    "    holiday_discount = 0.25 if is_holiday else 0.10  # 25% discount on holidays, otherwise 10%\n",
    "    \n",
    "    if is_member:\n",
    "        discount = total_purchase * member_discount\n",
    "        print(f\"Membership discount applied: ${discount:.2f}\")\n",
    "    else:\n",
    "        discount = total_purchase * non_member_discount\n",
    "        print(f\"Non-member discount applied: ${discount:.2f}\")\n",
    "    \n",
    "    holiday_discount_amount = total_purchase * holiday_discount\n",
    "    print(f\"Seasonal discount applied: ${holiday_discount_amount:.2f}\")\n",
    "    discount += holiday_discount_amount\n",
    "    \n",
    "    final_price = total_purchase - discount\n",
    "    print(f\"Final price: ${final_price:.2f}\")\n",
    "    \n",
    "    # Buy-One-Get-One-Free Offer\n",
    "    if num_items % 2 == 0:\n",
    "        items_to_pay_for = num_items // 2\n",
    "        print(f\"Buy-One-Get-One-Free applied: Pay for {items_to_pay_for} items out of {num_items}.\")\n",
    "    else:\n",
    "        items_to_pay_for = num_items\n",
    "        print(f\"No Buy-One-Get-One-Free applied: Pay for all {num_items} items.\")\n",
    "    \n",
    "    return final_price, items_to_pay_for\n",
    "\n",
    "# Example usage\n",
    "total_purchase = float(input(\"Enter total purchase amount: $\"))\n",
    "num_items = int(input(\"Enter number of items purchased: \"))\n",
    "is_member = input(\"Are you a member? (yes/no): \").strip().lower() == \"yes\"\n",
    "is_holiday = input(\"Is today a holiday? (yes/no): \").strip().lower() == \"yes\"\n",
    "calculate_final_price(total_purchase, num_items, is_member, is_holiday)\n"
   ]
  },
  {
   "cell_type": "markdown",
   "id": "8e54c549-25ea-4afc-b3cc-5ff96e237fb0",
   "metadata": {},
   "source": [
    "# B-\tTax Calculations"
   ]
  },
  {
   "cell_type": "markdown",
   "id": "be664246-f3d7-4efa-85b4-84c66911e279",
   "metadata": {},
   "source": [
    "6.\tSales Tax\n",
    "If the price of an item is greater than $500, apply a luxury tax of 15%. Otherwise, apply a standard tax of 8%. Display the total price after tax.\n"
   ]
  },
  {
   "cell_type": "code",
   "execution_count": 22,
   "id": "81804460-7b7b-4dbf-848b-26a06b1058a8",
   "metadata": {},
   "outputs": [
    {
     "name": "stdin",
     "output_type": "stream",
     "text": [
      "Enter the price of the item: $ 800\n"
     ]
    },
    {
     "name": "stdout",
     "output_type": "stream",
     "text": [
      "Total Price After Tax: $920.00\n"
     ]
    }
   ],
   "source": [
    "def calculate_sales_tax(price):\n",
    "    \"\"\"Calculate total price after applying sales tax.\"\"\"\n",
    "    tax_rate = 0.15 if price > 500 else 0.08\n",
    "    total_price = price + (price * tax_rate)\n",
    "    return total_price\n",
    "\n",
    "# Example Usage\n",
    "price = float(input(\"Enter the price of the item: $\"))\n",
    "total_price = calculate_sales_tax(price)\n",
    "print(f\"Total Price After Tax: ${total_price:.2f}\")"
   ]
  },
  {
   "cell_type": "markdown",
   "id": "b7158b93-d270-4127-8fe7-b4e4d26473eb",
   "metadata": {},
   "source": [
    "7.\tIncome Tax\n",
    "If a person's annual income is above $50,000, they pay 20% tax. Otherwise, they pay 10%. Calculate and display the tax amount.\n"
   ]
  },
  {
   "cell_type": "code",
   "execution_count": 23,
   "id": "e9ccefb9-b777-4867-8d2d-065954b4cdc0",
   "metadata": {},
   "outputs": [
    {
     "name": "stdin",
     "output_type": "stream",
     "text": [
      "Enter the price of the item: $ 790\n"
     ]
    },
    {
     "name": "stdout",
     "output_type": "stream",
     "text": [
      "Total Price After Tax: $908.50\n"
     ]
    }
   ],
   "source": [
    "def calculate_sales_tax(price):\n",
    "    \"\"\"Calculate total price after applying sales tax.\"\"\"\n",
    "    if price < 0:\n",
    "        raise ValueError(\"Price cannot be negative.\")\n",
    "        \n",
    "    tax_rate = 0.15 if price > 500 else 0.08\n",
    "    total_price = price + (price * tax_rate)\n",
    "    return total_price\n",
    "\n",
    "# Example Usage\n",
    "try:\n",
    "    price = float(input(\"Enter the price of the item: $\"))\n",
    "    total_price = calculate_sales_tax(price)\n",
    "    print(f\"Total Price After Tax: ${total_price:.2f}\")\n",
    "except ValueError as e:\n",
    "    print(f\"Invalid input: {e}\")\n"
   ]
  },
  {
   "cell_type": "markdown",
   "id": "4b5afaf7-c51b-4b02-9e1e-00857a95025f",
   "metadata": {},
   "source": [
    "8.\tTax Bracket\n",
    "Write a program to categorize a person into tax brackets:\n",
    "\tIncome < $30,000: \"Low Tax\"\n",
    "\t$30,000 ≤ Income < $100,000: \"Medium Tax\"\n",
    "\tIncome ≥ $100,000: \"High Tax\"\n"
   ]
  },
  {
   "cell_type": "code",
   "execution_count": 24,
   "id": "209b4069-cf5b-481f-a9e3-0120297bdd75",
   "metadata": {},
   "outputs": [
    {
     "name": "stdin",
     "output_type": "stream",
     "text": [
      "Enter your annual income: $ 700\n"
     ]
    },
    {
     "name": "stdout",
     "output_type": "stream",
     "text": [
      "Tax Bracket: Low Tax\n"
     ]
    }
   ],
   "source": [
    "def determine_tax_bracket(income):\n",
    "    \"\"\"Determine tax bracket based on income.\"\"\"\n",
    "    if income < 30000:\n",
    "        return \"Low Tax\"\n",
    "    elif income < 100000:\n",
    "        return \"Medium Tax\"\n",
    "    else:\n",
    "        return \"High Tax\"\n",
    "\n",
    "# Example Usage\n",
    "try:\n",
    "    income = float(input(\"Enter your annual income: $\"))\n",
    "    if income < 0:\n",
    "        print(\"Income cannot be negative.\")\n",
    "    else:\n",
    "        tax_bracket = determine_tax_bracket(income)\n",
    "        print(f\"Tax Bracket: {tax_bracket}\")\n",
    "except ValueError:\n",
    "    print(\"Invalid input. Please enter a valid number.\")\n"
   ]
  },
  {
   "cell_type": "markdown",
   "id": "3ab93a7d-073a-463d-9d01-f598313adcfb",
   "metadata": {},
   "source": [
    "9.\tVAT Calculation\n",
    "If the item is marked as essential (is_essential = True), apply a VAT of 5%. Otherwise, apply a VAT of 12%. Display the final price.\n"
   ]
  },
  {
   "cell_type": "code",
   "execution_count": 25,
   "id": "0065e8fb-ceca-4363-8266-0704405d2e54",
   "metadata": {},
   "outputs": [
    {
     "name": "stdin",
     "output_type": "stream",
     "text": [
      "Enter the price of the item: $ 600\n",
      "Is the item essential? (yes/no):  no\n"
     ]
    },
    {
     "name": "stdout",
     "output_type": "stream",
     "text": [
      "Final Price After VAT: $672.00\n"
     ]
    }
   ],
   "source": [
    "def calculate_vat(price, is_essential):\n",
    "    \"\"\"Calculate final price after VAT based on item type.\"\"\"\n",
    "    if price < 0:\n",
    "        raise ValueError(\"Price cannot be negative.\")\n",
    "        \n",
    "    vat_rate = 0.05 if is_essential else 0.12\n",
    "    final_price = price + (price * vat_rate)\n",
    "    return final_price\n",
    "\n",
    "# Example Usage\n",
    "try:\n",
    "    price = float(input(\"Enter the price of the item: $\"))\n",
    "    is_essential = input(\"Is the item essential? (yes/no): \").strip().lower() == \"yes\"\n",
    "    \n",
    "    final_price = calculate_vat(price, is_essential)\n",
    "    print(f\"Final Price After VAT: ${final_price:.2f}\")\n",
    "except ValueError as e:\n",
    "    print(f\"Invalid input: {e}\")\n"
   ]
  },
  {
   "cell_type": "markdown",
   "id": "fd074171-d899-4735-a960-eec7a250d100",
   "metadata": {},
   "source": [
    "10.\tTax-Free Day\n",
    "If today is a tax-free day (tax_free = True), display the original price. Otherwise, add a 7% tax.\n"
   ]
  },
  {
   "cell_type": "code",
   "execution_count": 26,
   "id": "1004aa58-6276-4416-8fd9-41dee084f11f",
   "metadata": {},
   "outputs": [
    {
     "name": "stdin",
     "output_type": "stream",
     "text": [
      "Enter the price of the item: $ 7000\n",
      "Is today a tax-free day? (yes/no):  yes\n"
     ]
    },
    {
     "name": "stdout",
     "output_type": "stream",
     "text": [
      "Final Price: $7000.00\n"
     ]
    }
   ],
   "source": [
    "def calculate_tax_free_day(price, tax_free):\n",
    "    \"\"\"Return final price based on tax-free day condition.\"\"\"\n",
    "    if price < 0:\n",
    "        raise ValueError(\"Price cannot be negative.\")\n",
    "\n",
    "    return price if tax_free else price + (price * 0.07)\n",
    "\n",
    "# Example Usage\n",
    "try:\n",
    "    price = float(input(\"Enter the price of the item: $\"))\n",
    "    tax_free = input(\"Is today a tax-free day? (yes/no): \").strip().lower() == \"yes\"\n",
    "\n",
    "    final_price = calculate_tax_free_day(price, tax_free)\n",
    "    print(f\"Final Price: ${final_price:.2f}\")\n",
    "except ValueError as e:\n",
    "    print(f\"Invalid input: {e}\")\n"
   ]
  },
  {
   "cell_type": "markdown",
   "id": "cef759d7-2e40-4179-9a17-ec14588a6e5c",
   "metadata": {},
   "source": [
    "# C-\tShopping and Billing"
   ]
  },
  {
   "cell_type": "markdown",
   "id": "f5c236f8-7248-4ca2-9b8b-ec37c316d00e",
   "metadata": {},
   "source": [
    "16.\tTravel Discount\n",
    "If a person is traveling more than 500 miles, offer a 20% discount on ticket price. Otherwise, charge the full amount.\n"
   ]
  },
  {
   "cell_type": "code",
   "execution_count": 27,
   "id": "f792b1a9-eea3-4fae-9161-4cb0781db850",
   "metadata": {},
   "outputs": [
    {
     "name": "stdin",
     "output_type": "stream",
     "text": [
      "Enter the ticket price: $ 70\n",
      "Enter the travel distance in miles:  70\n"
     ]
    },
    {
     "name": "stdout",
     "output_type": "stream",
     "text": [
      "Final Ticket Price: $70.00\n"
     ]
    }
   ],
   "source": [
    "def calculate_travel_discount(ticket_price, miles_traveled):\n",
    "    \"\"\"Apply a 20% discount if travel distance is more than 500 miles.\"\"\"\n",
    "    if ticket_price < 0 or miles_traveled < 0:\n",
    "        raise ValueError(\"Ticket price and miles traveled cannot be negative.\")\n",
    "\n",
    "    discount_rate = 0.20 if miles_traveled > 500 else 0.0\n",
    "    final_price = ticket_price - (ticket_price * discount_rate)\n",
    "    return final_price\n",
    "\n",
    "# Example Usage\n",
    "try:\n",
    "    ticket_price = float(input(\"Enter the ticket price: $\"))\n",
    "    miles_traveled = float(input(\"Enter the travel distance in miles: \"))\n",
    "\n",
    "    final_price = calculate_travel_discount(ticket_price, miles_traveled)\n",
    "    print(f\"Final Ticket Price: ${final_price:.2f}\")\n",
    "except ValueError as e:\n",
    "    print(f\"Invalid input: {e}\")\n"
   ]
  },
  {
   "cell_type": "markdown",
   "id": "522f6479-8215-4534-a35a-0e580c3d8364",
   "metadata": {},
   "source": [
    "17.\tChild or Senior Discount\n",
    "If a passenger is under 12 or over 60 years old, apply a 15% discount on the ticket price. Otherwise, charge the full price.\n",
    "\n"
   ]
  },
  {
   "cell_type": "code",
   "execution_count": 28,
   "id": "1e694fbd-c609-4a4b-837e-c38e650432e4",
   "metadata": {},
   "outputs": [
    {
     "name": "stdin",
     "output_type": "stream",
     "text": [
      "Enter the ticket price: $ 70\n",
      "Enter the passenger's age:  66\n"
     ]
    },
    {
     "name": "stdout",
     "output_type": "stream",
     "text": [
      "Final Ticket Price: $59.50\n"
     ]
    }
   ],
   "source": [
    "def calculate_age_discount(ticket_price, age):\n",
    "    \"\"\"Apply a 15% discount if the passenger is under 12 or over 60.\"\"\"\n",
    "    if ticket_price < 0 or age < 0:\n",
    "        raise ValueError(\"Ticket price and age cannot be negative.\")\n",
    "\n",
    "    discount_rate = 0.15 if age < 12 or age > 60 else 0.0\n",
    "    final_price = ticket_price - (ticket_price * discount_rate)\n",
    "    return final_price\n",
    "\n",
    "# Example Usage\n",
    "try:\n",
    "    ticket_price = float(input(\"Enter the ticket price: $\"))\n",
    "    age = int(input(\"Enter the passenger's age: \"))\n",
    "\n",
    "    final_price = calculate_age_discount(ticket_price, age)\n",
    "    print(f\"Final Ticket Price: ${final_price:.2f}\")\n",
    "except ValueError as e:\n",
    "    print(f\"Invalid input: {e}\")\n"
   ]
  },
  {
   "cell_type": "markdown",
   "id": "deb9f4cc-c0b3-4f9d-9f2e-a12d2bf2f1bf",
   "metadata": {},
   "source": [
    "\n",
    "18.\tTicket Type Pricing\n",
    "If the ticket is for a weekend (is_weekend = True), add a 10% surcharge. Otherwise, charge the standard price.\n"
   ]
  },
  {
   "cell_type": "code",
   "execution_count": 29,
   "id": "60c29ed0-3afc-454d-913e-d6122dc0bc4d",
   "metadata": {},
   "outputs": [
    {
     "name": "stdin",
     "output_type": "stream",
     "text": [
      "Enter the ticket price: $ 500\n",
      "Is the ticket for a weekend? (yes/no):  yes\n"
     ]
    },
    {
     "name": "stdout",
     "output_type": "stream",
     "text": [
      "Final Ticket Price: $550.00\n"
     ]
    }
   ],
   "source": [
    "def calculate_ticket_price(ticket_price, is_weekend):\n",
    "    \"\"\"Apply a 10% surcharge if the ticket is for a weekend.\"\"\"\n",
    "    if ticket_price < 0:\n",
    "        raise ValueError(\"Ticket price cannot be negative.\")\n",
    "\n",
    "    surcharge_rate = 0.10 if is_weekend else 0.0\n",
    "    final_price = ticket_price + (ticket_price * surcharge_rate)\n",
    "    return final_price\n",
    "\n",
    "# Example Usage\n",
    "try:\n",
    "    ticket_price = float(input(\"Enter the ticket price: $\"))\n",
    "    is_weekend = input(\"Is the ticket for a weekend? (yes/no): \").strip().lower() == \"yes\"\n",
    "\n",
    "    final_price = calculate_ticket_price(ticket_price, is_weekend)\n",
    "    print(f\"Final Ticket Price: ${final_price:.2f}\")\n",
    "except ValueError as e:\n",
    "    print(f\"Invalid input: {e}\")\n"
   ]
  },
  {
   "cell_type": "markdown",
   "id": "5ee18113-0cf0-4cdc-9d74-3e4124a0189f",
   "metadata": {},
   "source": [
    "19.\tBaggage Fee\n",
    "If the total baggage weight is over 20kg, charge $10 per extra kilogram. Otherwise, no extra fee.\n",
    "\n"
   ]
  },
  {
   "cell_type": "code",
   "execution_count": 30,
   "id": "d233caf9-728c-4b7d-8080-955a5ae2e43e",
   "metadata": {},
   "outputs": [
    {
     "name": "stdin",
     "output_type": "stream",
     "text": [
      "Enter the total baggage weight (kg):  70\n"
     ]
    },
    {
     "name": "stdout",
     "output_type": "stream",
     "text": [
      "Extra Baggage Fee: $500.00\n"
     ]
    }
   ],
   "source": [
    "def calculate_baggage_fee(weight):\n",
    "    \"\"\"Charge $10 per extra kg if baggage weight exceeds 20kg.\"\"\"\n",
    "    if weight < 0:\n",
    "        raise ValueError(\"Baggage weight cannot be negative.\")\n",
    "\n",
    "    excess_weight = max(0, weight - 20)  # Extra weight beyond 20kg\n",
    "    extra_fee = excess_weight * 10  # $10 per extra kg\n",
    "    return extra_fee\n",
    "\n",
    "# Example Usage\n",
    "try:\n",
    "    baggage_weight = float(input(\"Enter the total baggage weight (kg): \"))\n",
    "\n",
    "    fee = calculate_baggage_fee(baggage_weight)\n",
    "    print(f\"Extra Baggage Fee: ${fee:.2f}\")\n",
    "except ValueError as e:\n",
    "    print(f\"Invalid input: {e}\")\n"
   ]
  },
  {
   "cell_type": "markdown",
   "id": "41401ffb-0b0a-443c-a759-1613196b1b74",
   "metadata": {},
   "source": [
    "20.\tEarly Bird Discount\n",
    "If a ticket is booked more than 30 days in advance, apply a 10% discount. Otherwise, charge the full price.\n"
   ]
  },
  {
   "cell_type": "code",
   "execution_count": 31,
   "id": "f956d7ae-b768-4dce-b60e-8cb5185f9844",
   "metadata": {},
   "outputs": [
    {
     "name": "stdin",
     "output_type": "stream",
     "text": [
      "Enter the ticket price: $ 60\n",
      "Enter the number of days before departure:  2\n"
     ]
    },
    {
     "name": "stdout",
     "output_type": "stream",
     "text": [
      "Final Ticket Price: $60.00\n"
     ]
    }
   ],
   "source": [
    "from datetime import datetime\n",
    "\n",
    "def calculate_early_bird_discount(ticket_price, days_in_advance):\n",
    "    \"\"\"Apply a 10% discount if the ticket is booked more than 30 days in advance.\"\"\"\n",
    "    if ticket_price < 0 or days_in_advance < 0:\n",
    "        raise ValueError(\"Ticket price and days in advance cannot be negative.\")\n",
    "\n",
    "    discount_rate = 0.10 if days_in_advance > 30 else 0.0\n",
    "    final_price = ticket_price - (ticket_price * discount_rate)\n",
    "    return final_price\n",
    "\n",
    "# Example Usage\n",
    "try:\n",
    "    ticket_price = float(input(\"Enter the ticket price: $\"))\n",
    "    days_in_advance = int(input(\"Enter the number of days before departure: \"))\n",
    "\n",
    "    final_price = calculate_early_bird_discount(ticket_price, days_in_advance)\n",
    "    print(f\"Final Ticket Price: ${final_price:.2f}\")\n",
    "except ValueError as e:\n",
    "    print(f\"Invalid input: {e}\")\n"
   ]
  },
  {
   "cell_type": "markdown",
   "id": "9fa20695-9b52-4ced-9899-7e5b68d6b65c",
   "metadata": {},
   "source": [
    "\n",
    "# E-\tGrades and Performance\n"
   ]
  },
  {
   "cell_type": "markdown",
   "id": "a02cda09-60ba-4058-942c-c9b9e0c66417",
   "metadata": {},
   "source": [
    "21.\tPass or Fail\n",
    "If a student scores 40 or more, print \"Pass\". Otherwise, print \"Fail\".\n"
   ]
  },
  {
   "cell_type": "code",
   "execution_count": 32,
   "id": "83ed7cbf-178d-41a8-a18c-d3bd4ea4cf58",
   "metadata": {},
   "outputs": [
    {
     "name": "stdin",
     "output_type": "stream",
     "text": [
      "Enter the student's score:  60\n"
     ]
    },
    {
     "name": "stdout",
     "output_type": "stream",
     "text": [
      "Result: Pass\n"
     ]
    }
   ],
   "source": [
    "def check_pass_fail(score):\n",
    "    \"\"\"Determine if the student passes or fails.\"\"\"\n",
    "    if score < 0 or score > 100:\n",
    "        raise ValueError(\"Score must be between 0 and 100.\")\n",
    "\n",
    "    return \"Pass\" if score >= 40 else \"Fail\"\n",
    "\n",
    "# Example Usage\n",
    "try:\n",
    "    score = float(input(\"Enter the student's score: \"))\n",
    "    result = check_pass_fail(score)\n",
    "    print(f\"Result: {result}\")\n",
    "except ValueError as e:\n",
    "    print(f\"Invalid input: {e}\")"
   ]
  },
  {
   "cell_type": "markdown",
   "id": "156effe2-4867-4860-bff7-5744057e3de4",
   "metadata": {},
   "source": [
    "22.\tGrade Assignment\n",
    "Based on a student's score, assign grades:\n",
    "\t90 and above: \"A\"\n",
    "\t75–89: \"B\"\n",
    "\t50–74: \"C\"\n",
    "\tBelow 50: \"F\"\n"
   ]
  },
  {
   "cell_type": "code",
   "execution_count": 33,
   "id": "83f43614-ee2e-40e5-97dc-4494007a19b3",
   "metadata": {},
   "outputs": [
    {
     "name": "stdin",
     "output_type": "stream",
     "text": [
      "Enter the student's score:  50\n"
     ]
    },
    {
     "name": "stdout",
     "output_type": "stream",
     "text": [
      "Assigned Grade: C\n"
     ]
    }
   ],
   "source": [
    "def assign_grade(score):\n",
    "    \"\"\"Assign a grade based on the student's score.\"\"\"\n",
    "    if score < 0 or score > 100:\n",
    "        raise ValueError(\"Score must be between 0 and 100.\")\n",
    "\n",
    "    if score >= 90:\n",
    "        return \"A\"\n",
    "    elif score >= 75:\n",
    "        return \"B\"\n",
    "    elif score >= 50:\n",
    "        return \"C\"\n",
    "    else:\n",
    "        return \"F\"\n",
    "\n",
    "# Example Usage\n",
    "try:\n",
    "    score = float(input(\"Enter the student's score: \"))\n",
    "    grade = assign_grade(score)\n",
    "    print(f\"Assigned Grade: {grade}\")\n",
    "except ValueError as e:\n",
    "    print(f\"Invalid input: {e}\")\n"
   ]
  },
  {
   "cell_type": "markdown",
   "id": "c27465c7-474e-435b-8191-760e575769df",
   "metadata": {},
   "source": [
    "23.\tBonus Marks\n",
    "If a student completes all assignments, add 5 bonus marks to their score. Otherwise, no bonus marks.\n"
   ]
  },
  {
   "cell_type": "code",
   "execution_count": 34,
   "id": "58bcd825-b522-46b2-ba3b-a04d5a9a2cd1",
   "metadata": {},
   "outputs": [
    {
     "name": "stdin",
     "output_type": "stream",
     "text": [
      "Enter the student's score:  50\n",
      "Has the student completed all assignments? (yes/no):  yes\n"
     ]
    },
    {
     "name": "stdout",
     "output_type": "stream",
     "text": [
      "Final Score (After Bonus, if applicable): 55.0\n"
     ]
    }
   ],
   "source": [
    "def apply_bonus_marks(score, completed_assignments):\n",
    "    \"\"\"Add 5 bonus marks if all assignments are completed.\"\"\"\n",
    "    if score < 0 or score > 100:\n",
    "        raise ValueError(\"Score must be between 0 and 100.\")\n",
    "\n",
    "    bonus = 5 if completed_assignments else 0\n",
    "    final_score = min(score + bonus, 100)  # Ensure score doesn't exceed 100\n",
    "    return final_score\n",
    "\n",
    "# Example Usage\n",
    "try:\n",
    "    score = float(input(\"Enter the student's score: \"))\n",
    "    completed_assignments = input(\"Has the student completed all assignments? (yes/no): \").strip().lower() == \"yes\"\n",
    "\n",
    "    final_score = apply_bonus_marks(score, completed_assignments)\n",
    "    print(f\"Final Score (After Bonus, if applicable): {final_score}\")\n",
    "except ValueError as e:\n",
    "    print(f\"Invalid input: {e}\")\n"
   ]
  },
  {
   "cell_type": "markdown",
   "id": "e847fde3-7256-4341-b9f6-71226928c9fa",
   "metadata": {},
   "source": [
    "24.\tAttendance Eligibility\n",
    "If a student's attendance is 75% or more, they are eligible to take the exam. Otherwise, they are not.\n",
    "\n"
   ]
  },
  {
   "cell_type": "code",
   "execution_count": 36,
   "id": "3999ba93-8e6c-4f04-a635-b62ceaaa5025",
   "metadata": {},
   "outputs": [
    {
     "name": "stdin",
     "output_type": "stream",
     "text": [
      "Enter the student's attendance percentage:  80\n"
     ]
    },
    {
     "name": "stdout",
     "output_type": "stream",
     "text": [
      "Exam Eligibility: Eligible\n"
     ]
    }
   ],
   "source": [
    "def check_exam_eligibility(attendance_percentage):\n",
    "    \"\"\"Determine if a student is eligible for the exam based on attendance.\"\"\"\n",
    "    if attendance_percentage < 0 or attendance_percentage > 100:\n",
    "        raise ValueError(\"Attendance percentage must be between 0 and 100.\")\n",
    "\n",
    "    return \"Eligible\" if attendance_percentage >= 75 else \"Not Eligible\"\n",
    "\n",
    "# Example Usage\n",
    "try:\n",
    "    attendance = float(input(\"Enter the student's attendance percentage: \"))\n",
    "    eligibility = check_exam_eligibility(attendance)\n",
    "    print(f\"Exam Eligibility: {eligibility}\")\n",
    "except ValueError as e:\n",
    "    print(f\"Invalid input: {e}\")\n",
    "\n"
   ]
  },
  {
   "cell_type": "markdown",
   "id": "39611199-8584-450c-ad3c-da66d4e7a5f7",
   "metadata": {},
   "source": [
    "25.\tScholarship Eligibility\n",
    "If a student's grade is \"A\" and their annual family income is below $30,000, they are eligible for a scholarship. Otherwise, they are not.\n"
   ]
  },
  {
   "cell_type": "code",
   "execution_count": 37,
   "id": "e18d6c93-edaf-4fde-8b38-d808269fc0b6",
   "metadata": {},
   "outputs": [
    {
     "name": "stdin",
     "output_type": "stream",
     "text": [
      "Enter the student's grade (A/B/C/F):  f\n",
      "Enter the annual family income: $ 7000\n"
     ]
    },
    {
     "name": "stdout",
     "output_type": "stream",
     "text": [
      "Scholarship Eligibility: Not Eligible\n"
     ]
    }
   ],
   "source": [
    "def check_scholarship_eligibility(grade, family_income):\n",
    "    \"\"\"Determine if a student is eligible for a scholarship.\"\"\"\n",
    "    if family_income < 0:\n",
    "        raise ValueError(\"Family income cannot be negative.\")\n",
    "\n",
    "    return \"Eligible\" if grade == \"A\" and family_income < 30000 else \"Not Eligible\"\n",
    "\n",
    "# Example Usage\n",
    "try:\n",
    "    grade = input(\"Enter the student's grade (A/B/C/F): \").strip().upper()\n",
    "    family_income = float(input(\"Enter the annual family income: $\"))\n",
    "\n",
    "    if grade not in [\"A\", \"B\", \"C\", \"F\"]:\n",
    "        raise ValueError(\"Invalid grade. Please enter A, B, C, or F.\")\n",
    "\n",
    "    eligibility = check_scholarship_eligibility(grade, family_income)\n",
    "    print(f\"Scholarship Eligibility: {eligibility}\")\n",
    "except ValueError as e:\n",
    "    print(f\"Invalid input: {e}\")\n"
   ]
  }
 ],
 "metadata": {
  "kernelspec": {
   "display_name": "Python 3 (ipykernel)",
   "language": "python",
   "name": "python3"
  },
  "language_info": {
   "codemirror_mode": {
    "name": "ipython",
    "version": 3
   },
   "file_extension": ".py",
   "mimetype": "text/x-python",
   "name": "python",
   "nbconvert_exporter": "python",
   "pygments_lexer": "ipython3",
   "version": "3.12.7"
  }
 },
 "nbformat": 4,
 "nbformat_minor": 5
}
