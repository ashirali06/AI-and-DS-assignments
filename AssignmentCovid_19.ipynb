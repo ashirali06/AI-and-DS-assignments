{
 "cells": [
  {
   "cell_type": "code",
   "execution_count": 4,
   "id": "ba0c4887-bc89-44d4-8014-4a87eff88475",
   "metadata": {},
   "outputs": [],
   "source": [
    "import pandas as pd"
   ]
  },
  {
   "cell_type": "code",
   "execution_count": 12,
   "id": "5419562c-4cee-45f1-bae9-9663d0cdff52",
   "metadata": {},
   "outputs": [
    {
     "data": {
      "text/html": [
       "<div>\n",
       "<style scoped>\n",
       "    .dataframe tbody tr th:only-of-type {\n",
       "        vertical-align: middle;\n",
       "    }\n",
       "\n",
       "    .dataframe tbody tr th {\n",
       "        vertical-align: top;\n",
       "    }\n",
       "\n",
       "    .dataframe thead th {\n",
       "        text-align: right;\n",
       "    }\n",
       "</style>\n",
       "<table border=\"1\" class=\"dataframe\">\n",
       "  <thead>\n",
       "    <tr style=\"text-align: right;\">\n",
       "      <th></th>\n",
       "      <th>Unnamed: 0</th>\n",
       "      <th>Country/Region</th>\n",
       "      <th>Confirmed</th>\n",
       "      <th>Deaths</th>\n",
       "      <th>Recovered</th>\n",
       "      <th>Active</th>\n",
       "      <th>New cases</th>\n",
       "      <th>New deaths</th>\n",
       "      <th>New recovered</th>\n",
       "      <th>Deaths / 100 Cases</th>\n",
       "      <th>Recovered / 100 Cases</th>\n",
       "      <th>Deaths / 100 Recovered</th>\n",
       "      <th>Confirmed last week</th>\n",
       "      <th>1 week change</th>\n",
       "      <th>1 week % increase</th>\n",
       "      <th>WHO Region</th>\n",
       "    </tr>\n",
       "  </thead>\n",
       "  <tbody>\n",
       "    <tr>\n",
       "      <th>0</th>\n",
       "      <td>0</td>\n",
       "      <td>Afghanistan</td>\n",
       "      <td>36263</td>\n",
       "      <td>1269</td>\n",
       "      <td>25198</td>\n",
       "      <td>9796</td>\n",
       "      <td>106.0</td>\n",
       "      <td>10.0</td>\n",
       "      <td>18</td>\n",
       "      <td>3.50</td>\n",
       "      <td>69.49</td>\n",
       "      <td>5.04</td>\n",
       "      <td>35526</td>\n",
       "      <td>737</td>\n",
       "      <td>2.07</td>\n",
       "      <td>Eastern Mediterranean</td>\n",
       "    </tr>\n",
       "    <tr>\n",
       "      <th>1</th>\n",
       "      <td>1</td>\n",
       "      <td>Albania</td>\n",
       "      <td>4880</td>\n",
       "      <td>144</td>\n",
       "      <td>2745</td>\n",
       "      <td>1991</td>\n",
       "      <td>117.0</td>\n",
       "      <td>6.0</td>\n",
       "      <td>63</td>\n",
       "      <td>2.95</td>\n",
       "      <td>56.25</td>\n",
       "      <td>5.25</td>\n",
       "      <td>4171</td>\n",
       "      <td>709</td>\n",
       "      <td>17.00</td>\n",
       "      <td>Europe</td>\n",
       "    </tr>\n",
       "    <tr>\n",
       "      <th>2</th>\n",
       "      <td>2</td>\n",
       "      <td>Algeria</td>\n",
       "      <td>27973</td>\n",
       "      <td>1163</td>\n",
       "      <td>18837</td>\n",
       "      <td>7973</td>\n",
       "      <td>616.0</td>\n",
       "      <td>8.0</td>\n",
       "      <td>749</td>\n",
       "      <td>4.16</td>\n",
       "      <td>67.34</td>\n",
       "      <td>6.17</td>\n",
       "      <td>23691</td>\n",
       "      <td>4282</td>\n",
       "      <td>18.07</td>\n",
       "      <td>Africa</td>\n",
       "    </tr>\n",
       "    <tr>\n",
       "      <th>3</th>\n",
       "      <td>3</td>\n",
       "      <td>Andorra</td>\n",
       "      <td>907</td>\n",
       "      <td>52</td>\n",
       "      <td>803</td>\n",
       "      <td>52</td>\n",
       "      <td>10.0</td>\n",
       "      <td>0.0</td>\n",
       "      <td>0</td>\n",
       "      <td>5.73</td>\n",
       "      <td>88.53</td>\n",
       "      <td>6.48</td>\n",
       "      <td>884</td>\n",
       "      <td>23</td>\n",
       "      <td>2.60</td>\n",
       "      <td>Europe</td>\n",
       "    </tr>\n",
       "    <tr>\n",
       "      <th>4</th>\n",
       "      <td>4</td>\n",
       "      <td>Angola</td>\n",
       "      <td>950</td>\n",
       "      <td>41</td>\n",
       "      <td>242</td>\n",
       "      <td>667</td>\n",
       "      <td>18.0</td>\n",
       "      <td>1.0</td>\n",
       "      <td>0</td>\n",
       "      <td>4.32</td>\n",
       "      <td>25.47</td>\n",
       "      <td>16.94</td>\n",
       "      <td>749</td>\n",
       "      <td>201</td>\n",
       "      <td>26.84</td>\n",
       "      <td>Africa</td>\n",
       "    </tr>\n",
       "    <tr>\n",
       "      <th>...</th>\n",
       "      <td>...</td>\n",
       "      <td>...</td>\n",
       "      <td>...</td>\n",
       "      <td>...</td>\n",
       "      <td>...</td>\n",
       "      <td>...</td>\n",
       "      <td>...</td>\n",
       "      <td>...</td>\n",
       "      <td>...</td>\n",
       "      <td>...</td>\n",
       "      <td>...</td>\n",
       "      <td>...</td>\n",
       "      <td>...</td>\n",
       "      <td>...</td>\n",
       "      <td>...</td>\n",
       "      <td>...</td>\n",
       "    </tr>\n",
       "    <tr>\n",
       "      <th>182</th>\n",
       "      <td>182</td>\n",
       "      <td>West Bank and Gaza</td>\n",
       "      <td>10621</td>\n",
       "      <td>78</td>\n",
       "      <td>3752</td>\n",
       "      <td>6791</td>\n",
       "      <td>152.0</td>\n",
       "      <td>2.0</td>\n",
       "      <td>0</td>\n",
       "      <td>0.73</td>\n",
       "      <td>35.33</td>\n",
       "      <td>2.08</td>\n",
       "      <td>8916</td>\n",
       "      <td>1705</td>\n",
       "      <td>19.12</td>\n",
       "      <td>Eastern Mediterranean</td>\n",
       "    </tr>\n",
       "    <tr>\n",
       "      <th>183</th>\n",
       "      <td>183</td>\n",
       "      <td>Western Sahara</td>\n",
       "      <td>10</td>\n",
       "      <td>1</td>\n",
       "      <td>8</td>\n",
       "      <td>1</td>\n",
       "      <td>0.0</td>\n",
       "      <td>0.0</td>\n",
       "      <td>0</td>\n",
       "      <td>10.00</td>\n",
       "      <td>80.00</td>\n",
       "      <td>12.50</td>\n",
       "      <td>10</td>\n",
       "      <td>0</td>\n",
       "      <td>0.00</td>\n",
       "      <td>Africa</td>\n",
       "    </tr>\n",
       "    <tr>\n",
       "      <th>184</th>\n",
       "      <td>184</td>\n",
       "      <td>Yemen</td>\n",
       "      <td>1691</td>\n",
       "      <td>483</td>\n",
       "      <td>833</td>\n",
       "      <td>375</td>\n",
       "      <td>10.0</td>\n",
       "      <td>4.0</td>\n",
       "      <td>36</td>\n",
       "      <td>28.56</td>\n",
       "      <td>49.26</td>\n",
       "      <td>57.98</td>\n",
       "      <td>1619</td>\n",
       "      <td>72</td>\n",
       "      <td>4.45</td>\n",
       "      <td>Eastern Mediterranean</td>\n",
       "    </tr>\n",
       "    <tr>\n",
       "      <th>185</th>\n",
       "      <td>185</td>\n",
       "      <td>Zambia</td>\n",
       "      <td>4552</td>\n",
       "      <td>140</td>\n",
       "      <td>2815</td>\n",
       "      <td>1597</td>\n",
       "      <td>71.0</td>\n",
       "      <td>1.0</td>\n",
       "      <td>465</td>\n",
       "      <td>3.08</td>\n",
       "      <td>61.84</td>\n",
       "      <td>4.97</td>\n",
       "      <td>3326</td>\n",
       "      <td>1226</td>\n",
       "      <td>36.86</td>\n",
       "      <td>Africa</td>\n",
       "    </tr>\n",
       "    <tr>\n",
       "      <th>186</th>\n",
       "      <td>186</td>\n",
       "      <td>Zimbabwe</td>\n",
       "      <td>2704</td>\n",
       "      <td>non</td>\n",
       "      <td>542</td>\n",
       "      <td>2126</td>\n",
       "      <td>192.0</td>\n",
       "      <td>2.0</td>\n",
       "      <td>24</td>\n",
       "      <td>1.33</td>\n",
       "      <td>20.04</td>\n",
       "      <td>6.64</td>\n",
       "      <td>1713</td>\n",
       "      <td>991</td>\n",
       "      <td>57.85</td>\n",
       "      <td>Africa</td>\n",
       "    </tr>\n",
       "  </tbody>\n",
       "</table>\n",
       "<p>187 rows × 16 columns</p>\n",
       "</div>"
      ],
      "text/plain": [
       "     Unnamed: 0      Country/Region  Confirmed Deaths  Recovered  Active  \\\n",
       "0             0         Afghanistan      36263   1269      25198    9796   \n",
       "1             1             Albania       4880    144       2745    1991   \n",
       "2             2             Algeria      27973   1163      18837    7973   \n",
       "3             3             Andorra        907     52        803      52   \n",
       "4             4              Angola        950     41        242     667   \n",
       "..          ...                 ...        ...    ...        ...     ...   \n",
       "182         182  West Bank and Gaza      10621     78       3752    6791   \n",
       "183         183      Western Sahara         10      1          8       1   \n",
       "184         184               Yemen       1691    483        833     375   \n",
       "185         185              Zambia       4552    140       2815    1597   \n",
       "186         186            Zimbabwe       2704    non        542    2126   \n",
       "\n",
       "     New cases  New deaths  New recovered  Deaths / 100 Cases  \\\n",
       "0        106.0        10.0             18                3.50   \n",
       "1        117.0         6.0             63                2.95   \n",
       "2        616.0         8.0            749                4.16   \n",
       "3         10.0         0.0              0                5.73   \n",
       "4         18.0         1.0              0                4.32   \n",
       "..         ...         ...            ...                 ...   \n",
       "182      152.0         2.0              0                0.73   \n",
       "183        0.0         0.0              0               10.00   \n",
       "184       10.0         4.0             36               28.56   \n",
       "185       71.0         1.0            465                3.08   \n",
       "186      192.0         2.0             24                1.33   \n",
       "\n",
       "     Recovered / 100 Cases  Deaths / 100 Recovered  Confirmed last week  \\\n",
       "0                    69.49                    5.04                35526   \n",
       "1                    56.25                    5.25                 4171   \n",
       "2                    67.34                    6.17                23691   \n",
       "3                    88.53                    6.48                  884   \n",
       "4                    25.47                   16.94                  749   \n",
       "..                     ...                     ...                  ...   \n",
       "182                  35.33                    2.08                 8916   \n",
       "183                  80.00                   12.50                   10   \n",
       "184                  49.26                   57.98                 1619   \n",
       "185                  61.84                    4.97                 3326   \n",
       "186                  20.04                    6.64                 1713   \n",
       "\n",
       "     1 week change  1 week % increase             WHO Region  \n",
       "0              737               2.07  Eastern Mediterranean  \n",
       "1              709              17.00                 Europe  \n",
       "2             4282              18.07                 Africa  \n",
       "3               23               2.60                 Europe  \n",
       "4              201              26.84                 Africa  \n",
       "..             ...                ...                    ...  \n",
       "182           1705              19.12  Eastern Mediterranean  \n",
       "183              0               0.00                 Africa  \n",
       "184             72               4.45  Eastern Mediterranean  \n",
       "185           1226              36.86                 Africa  \n",
       "186            991              57.85                 Africa  \n",
       "\n",
       "[187 rows x 16 columns]"
      ]
     },
     "execution_count": 12,
     "metadata": {},
     "output_type": "execute_result"
    }
   ],
   "source": [
    "df = pd.read_csv(\"covid_19_country_wise_latest.csv\")\n",
    "df"
   ]
  },
  {
   "cell_type": "code",
   "execution_count": 13,
   "id": "b4168894-d4e1-482a-a148-bb991b51ed11",
   "metadata": {},
   "outputs": [
    {
     "name": "stdout",
     "output_type": "stream",
     "text": [
      "First 5 rows:\n",
      "   Unnamed: 0 Country/Region  Confirmed Deaths  Recovered  Active  New cases  \\\n",
      "0           0    Afghanistan      36263   1269      25198    9796      106.0   \n",
      "1           1        Albania       4880    144       2745    1991      117.0   \n",
      "2           2        Algeria      27973   1163      18837    7973      616.0   \n",
      "3           3        Andorra        907     52        803      52       10.0   \n",
      "4           4         Angola        950     41        242     667       18.0   \n",
      "\n",
      "   New deaths  New recovered  Deaths / 100 Cases  Recovered / 100 Cases  \\\n",
      "0        10.0             18                3.50                  69.49   \n",
      "1         6.0             63                2.95                  56.25   \n",
      "2         8.0            749                4.16                  67.34   \n",
      "3         0.0              0                5.73                  88.53   \n",
      "4         1.0              0                4.32                  25.47   \n",
      "\n",
      "   Deaths / 100 Recovered  Confirmed last week  1 week change  \\\n",
      "0                    5.04                35526            737   \n",
      "1                    5.25                 4171            709   \n",
      "2                    6.17                23691           4282   \n",
      "3                    6.48                  884             23   \n",
      "4                   16.94                  749            201   \n",
      "\n",
      "   1 week % increase             WHO Region  \n",
      "0               2.07  Eastern Mediterranean  \n",
      "1              17.00                 Europe  \n",
      "2              18.07                 Africa  \n",
      "3               2.60                 Europe  \n",
      "4              26.84                 Africa  \n"
     ]
    }
   ],
   "source": [
    "# Display first 5 rows\n",
    "print(\"First 5 rows:\")\n",
    "print(df.head())"
   ]
  },
  {
   "cell_type": "code",
   "execution_count": 14,
   "id": "9b347262-bc2c-4c66-8b5f-98284fde16f2",
   "metadata": {},
   "outputs": [],
   "source": [
    "# Set index\n",
    "df = df.set_index(df.columns[0])\n",
    "df.index.name = \"index\""
   ]
  },
  {
   "cell_type": "code",
   "execution_count": 18,
   "id": "cb8389f5-d245-44d3-84ba-0e4094cbc689",
   "metadata": {},
   "outputs": [],
   "source": [
    "# Function to replace whitespace with underscore in column names\n",
    "def clean_column_names(dataframe):\n",
    "    dataframe.columns = dataframe.columns.str.replace(\" \", \"_\")\n",
    "    return dataframe\n",
    "\n",
    "df = clean_column_names(df)"
   ]
  },
  {
   "cell_type": "code",
   "execution_count": 19,
   "id": "ca254918-5f09-4b80-9a2a-24553c7dccee",
   "metadata": {},
   "outputs": [
    {
     "name": "stdout",
     "output_type": "stream",
     "text": [
      "\n",
      "Dataset Info:\n",
      "<class 'pandas.core.frame.DataFrame'>\n",
      "Index: 187 entries, 0 to 186\n",
      "Data columns (total 15 columns):\n",
      " #   Column                  Non-Null Count  Dtype  \n",
      "---  ------                  --------------  -----  \n",
      " 0   Country/Region          187 non-null    object \n",
      " 1   Confirmed               187 non-null    int64  \n",
      " 2   Deaths                  187 non-null    object \n",
      " 3   Recovered               187 non-null    int64  \n",
      " 4   Active                  187 non-null    int64  \n",
      " 5   New_cases               177 non-null    float64\n",
      " 6   New_deaths              177 non-null    float64\n",
      " 7   New_recovered           187 non-null    int64  \n",
      " 8   Deaths_/_100_Cases      187 non-null    float64\n",
      " 9   Recovered_/_100_Cases   187 non-null    float64\n",
      " 10  Deaths_/_100_Recovered  187 non-null    float64\n",
      " 11  Confirmed_last_week     187 non-null    int64  \n",
      " 12  1_week_change           187 non-null    int64  \n",
      " 13  1_week_%_increase       187 non-null    float64\n",
      " 14  WHO_Region              187 non-null    object \n",
      "dtypes: float64(6), int64(6), object(3)\n",
      "memory usage: 23.4+ KB\n",
      "None\n",
      "\n",
      "Missing Values:\n",
      "Country/Region             0\n",
      "Confirmed                  0\n",
      "Deaths                     0\n",
      "Recovered                  0\n",
      "Active                     0\n",
      "New_cases                 10\n",
      "New_deaths                10\n",
      "New_recovered              0\n",
      "Deaths_/_100_Cases         0\n",
      "Recovered_/_100_Cases      0\n",
      "Deaths_/_100_Recovered     0\n",
      "Confirmed_last_week        0\n",
      "1_week_change              0\n",
      "1_week_%_increase          0\n",
      "WHO_Region                 0\n",
      "dtype: int64\n"
     ]
    }
   ],
   "source": [
    "# Check basic information\n",
    "print(\"\\nDataset Info:\")\n",
    "print(df.info())\n",
    "print(\"\\nMissing Values:\")\n",
    "print(df.isnull().sum())"
   ]
  },
  {
   "cell_type": "code",
   "execution_count": 44,
   "id": "0e2c4af2-e967-4f79-a83d-975660902ec2",
   "metadata": {},
   "outputs": [],
   "source": [
    "df.fillna(df.select_dtypes(include=[np.number]).mean(), inplace=True)\n"
   ]
  },
  {
   "cell_type": "code",
   "execution_count": 22,
   "id": "71ebd2f5-56b3-412f-86ce-428bb6522e95",
   "metadata": {},
   "outputs": [
    {
     "name": "stdout",
     "output_type": "stream",
     "text": [
      "\n",
      "Number of unique countries: 187\n"
     ]
    }
   ],
   "source": [
    "\n",
    "# Count unique countries\n",
    "num_countries = df.shape[0]\n",
    "print(f\"\\nNumber of unique countries: {num_countries}\")"
   ]
  },
  {
   "cell_type": "code",
   "execution_count": 24,
   "id": "fecf53fd-33dd-4cb8-ac57-5b9877a89b9b",
   "metadata": {},
   "outputs": [],
   "source": [
    "# Check for duplicate countries and remove if needed\n",
    "df = df[~df.index.duplicated(keep='first')]"
   ]
  },
  {
   "cell_type": "code",
   "execution_count": 25,
   "id": "73bcb442-4edf-4535-a185-db7b915f232e",
   "metadata": {},
   "outputs": [
    {
     "name": "stdout",
     "output_type": "stream",
     "text": [
      "\n",
      "Statistics for Total Cases:\n",
      "Mean: 88130.935828877\n",
      "Median: 5059.0\n",
      "Standard Deviation: 383318.66383061546\n"
     ]
    }
   ],
   "source": [
    "# Calculate mean, median, and standard deviation of total cases\n",
    "print(\"\\nStatistics for Total Cases:\")\n",
    "print(f\"Mean: {df['Confirmed'].mean()}\")\n",
    "print(f\"Median: {df['Confirmed'].median()}\")\n",
    "print(f\"Standard Deviation: {df['Confirmed'].std()}\")"
   ]
  },
  {
   "cell_type": "code",
   "execution_count": 26,
   "id": "683b6f31-b9f5-454f-af90-a5721cd95f62",
   "metadata": {},
   "outputs": [
    {
     "name": "stderr",
     "output_type": "stream",
     "text": [
      "C:\\Users\\sars\\AppData\\Local\\Temp\\ipykernel_8996\\321820795.py:3: FutureWarning: A value is trying to be set on a copy of a DataFrame or Series through chained assignment using an inplace method.\n",
      "The behavior will change in pandas 3.0. This inplace method will never work because the intermediate object on which we are setting values always behaves as a copy.\n",
      "\n",
      "For example, when doing 'df[col].method(value, inplace=True)', try using 'df.method({col: value}, inplace=True)' or df[col] = df[col].method(value) instead, to perform the operation inplace on the original object.\n",
      "\n",
      "\n",
      "  df['Deaths'].fillna(df['Deaths'].mean(), inplace=True)\n"
     ]
    }
   ],
   "source": [
    "# Replace strings in Deaths column with mean\n",
    "df['Deaths'] = pd.to_numeric(df['Deaths'], errors='coerce')\n",
    "df['Deaths'].fillna(df['Deaths'].mean(), inplace=True)"
   ]
  },
  {
   "cell_type": "code",
   "execution_count": 28,
   "id": "3cc5eb58-c032-45a1-9825-32335fc869b1",
   "metadata": {},
   "outputs": [],
   "source": [
    "# Change datatype of Deaths column\n",
    "df['Deaths'] = df['Deaths'].astype(int)"
   ]
  },
  {
   "cell_type": "code",
   "execution_count": 29,
   "id": "8cc6c49e-9416-404e-8c18-2729992b566b",
   "metadata": {},
   "outputs": [
    {
     "name": "stdout",
     "output_type": "stream",
     "text": [
      "\n",
      "Total Deaths: 657516\n",
      "Total Recovered: 9468087\n"
     ]
    }
   ],
   "source": [
    "# Total Deaths and Recoveries worldwide\n",
    "total_deaths = df['Deaths'].sum()\n",
    "total_recovered = df['Recovered'].sum()\n",
    "print(f\"\\nTotal Deaths: {total_deaths}\")\n",
    "print(f\"Total Recovered: {total_recovered}\")"
   ]
  },
  {
   "cell_type": "code",
   "execution_count": 30,
   "id": "64820d1e-64b2-4e02-b7f1-fd38bf0c9762",
   "metadata": {},
   "outputs": [
    {
     "name": "stdout",
     "output_type": "stream",
     "text": [
      "\n",
      "Countries with more than 1M cases: [23, 79, 173]\n"
     ]
    }
   ],
   "source": [
    "# Countries with more than 1 million cases\n",
    "high_case_countries = df[df['Confirmed'] > 1_000_000]\n",
    "print(f\"\\nCountries with more than 1M cases: {high_case_countries.index.tolist()}\")\n"
   ]
  },
  {
   "cell_type": "code",
   "execution_count": 31,
   "id": "8d3c84fa-0e29-4986-bee3-62f3d7f44ae8",
   "metadata": {},
   "outputs": [
    {
     "name": "stdout",
     "output_type": "stream",
     "text": [
      "\n",
      "Countries with recovery rate above 95%: [24, 48, 49, 69, 75, 78, 105, 110, 121, 126, 136, 164]\n"
     ]
    }
   ],
   "source": [
    "# Countries with recovery rate > 95%\n",
    "df['Recovery_Rate'] = (df['Recovered'] / df['Confirmed']) * 100\n",
    "high_recovery_countries = df[df['Recovery_Rate'] > 95]\n",
    "print(f\"\\nCountries with recovery rate above 95%: {high_recovery_countries.index.tolist()}\")"
   ]
  },
  {
   "cell_type": "code",
   "execution_count": 32,
   "id": "605f34c6-5582-44de-9a8b-250ef85f69ca",
   "metadata": {},
   "outputs": [],
   "source": [
    "# Drop WHO Region and Confirmed columns\n",
    "df.drop(columns=['WHO_Region', 'Confirmed'], inplace=True)"
   ]
  },
  {
   "cell_type": "code",
   "execution_count": 33,
   "id": "1af207b1-8079-4f97-93fb-cffaa9de46f8",
   "metadata": {},
   "outputs": [
    {
     "name": "stdout",
     "output_type": "stream",
     "text": [
      "\n",
      "Country with maximum deaths: 173\n"
     ]
    }
   ],
   "source": [
    "# Country with max deaths\n",
    "max_death_country = df['Deaths'].idxmax()\n",
    "print(f\"\\nCountry with maximum deaths: {max_death_country}\")\n"
   ]
  },
  {
   "cell_type": "code",
   "execution_count": 34,
   "id": "b15a5499-8889-4e90-be15-ac057606d0f4",
   "metadata": {},
   "outputs": [
    {
     "name": "stdout",
     "output_type": "stream",
     "text": [
      "\n",
      "Top 5 countries by Deaths:\n",
      "       Country/Region  Deaths  Recovered   Active  New_cases  New_deaths  \\\n",
      "index                                                                      \n",
      "173                US  148011    1325804  2816444    56336.0      1076.0   \n",
      "23             Brazil   87618    1846641   508116    23284.0       614.0   \n",
      "177    United Kingdom   45844       1437   254427      688.0         7.0   \n",
      "111            Mexico   44022     303810    47657     4973.0       342.0   \n",
      "85              Italy   35112     198593    12581      168.0         5.0   \n",
      "\n",
      "       New_recovered  Deaths_/_100_Cases  Recovered_/_100_Cases  \\\n",
      "index                                                             \n",
      "173            27941                3.45                  30.90   \n",
      "23             33728                3.59                  75.61   \n",
      "177                3               15.19                   0.48   \n",
      "111             8588               11.13                  76.82   \n",
      "85               147               14.26                  80.64   \n",
      "\n",
      "       Deaths_/_100_Recovered  Confirmed_last_week  1_week_change  \\\n",
      "index                                                               \n",
      "173                     11.16              3834677         455582   \n",
      "23                       4.74              2118646         323729   \n",
      "177                   3190.26               296944           4764   \n",
      "111                     14.49               349396          46093   \n",
      "85                      17.68               244624           1662   \n",
      "\n",
      "       1_week_%_increase  Recovery_Rate  \n",
      "index                                    \n",
      "173                11.88      30.902656  \n",
      "23                 15.28      75.608414  \n",
      "177                 1.60       0.476288  \n",
      "111                13.19      76.818824  \n",
      "85                  0.68      80.635115  \n"
     ]
    }
   ],
   "source": [
    "# Sort countries by deaths\n",
    "df_sorted = df.sort_values(by='Deaths', ascending=False)\n",
    "print(\"\\nTop 5 countries by Deaths:\")\n",
    "print(df_sorted.head())"
   ]
  },
  {
   "cell_type": "code",
   "execution_count": 35,
   "id": "3617cec2-6089-4dff-a4c1-6e5578ca78a1",
   "metadata": {},
   "outputs": [],
   "source": [
    "# Create Total_cases column\n",
    "df['Total_Cases'] = df['Deaths'] + df['Recovered'] + df['Active']\n"
   ]
  },
  {
   "cell_type": "code",
   "execution_count": 36,
   "id": "763c1c05-1469-4473-97fb-49757970487c",
   "metadata": {},
   "outputs": [],
   "source": [
    "# Calculate Death_Rate\n",
    "df['Death_Rate'] = (df['Deaths'] / df['Total_Cases']) * 100"
   ]
  },
  {
   "cell_type": "code",
   "execution_count": 43,
   "id": "88559db3-3a0e-4786-aa50-27891e34f9ff",
   "metadata": {},
   "outputs": [
    {
     "name": "stdout",
     "output_type": "stream",
     "text": [
      "\n",
      "Countries with increasing cases but low death rate:\n",
      "[]\n"
     ]
    }
   ],
   "source": [
    "low_death_rate_countries = df[(df['Total_Cases'] > 1_000_000) & (df['Death_Rate'] < 2)]\n",
    "print(\"\\nCountries with increasing cases but low death rate:\")\n",
    "print(low_death_rate_countries.index.tolist())\n",
    "\n"
   ]
  },
  {
   "cell_type": "code",
   "execution_count": 39,
   "id": "8779a694-09e8-4cfb-a39b-0c6dd39aaedd",
   "metadata": {},
   "outputs": [
    {
     "name": "stdout",
     "output_type": "stream",
     "text": [
      "\n",
      "Head of Country and Death Rate columns:\n",
      "      Country/Region  Death_Rate\n",
      "index                           \n",
      "0        Afghanistan    3.499435\n",
      "1            Albania    2.950820\n",
      "2            Algeria    4.157581\n",
      "3            Andorra    5.733186\n",
      "4             Angola    4.315789\n"
     ]
    }
   ],
   "source": [
    "# Print head of specific columns\n",
    "print(\"\\nHead of Country and Death Rate columns:\")\n",
    "print(df[['Country/Region', 'Death_Rate']].head())"
   ]
  },
  {
   "cell_type": "code",
   "execution_count": null,
   "id": "9391f1a5-c096-49f4-8e62-ea60df39e77c",
   "metadata": {},
   "outputs": [],
   "source": []
  }
 ],
 "metadata": {
  "kernelspec": {
   "display_name": "Python 3 (ipykernel)",
   "language": "python",
   "name": "python3"
  },
  "language_info": {
   "codemirror_mode": {
    "name": "ipython",
    "version": 3
   },
   "file_extension": ".py",
   "mimetype": "text/x-python",
   "name": "python",
   "nbconvert_exporter": "python",
   "pygments_lexer": "ipython3",
   "version": "3.12.7"
  }
 },
 "nbformat": 4,
 "nbformat_minor": 5
}
